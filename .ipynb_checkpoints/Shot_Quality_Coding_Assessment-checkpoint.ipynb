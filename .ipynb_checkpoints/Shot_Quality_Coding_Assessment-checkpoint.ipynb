{
 "cells": [
  {
   "cell_type": "markdown",
   "id": "68c01b4a-b532-4fc3-aca8-bd34b5008166",
   "metadata": {},
   "source": [
    "# Shot Quality Technical Assessment "
   ]
  },
  {
   "cell_type": "code",
   "execution_count": 11,
   "id": "986cecb6-51c9-45e8-844f-2910d13b9a3e",
   "metadata": {},
   "outputs": [],
   "source": [
    "import numpy as np\n",
    "import pandas as pd \n",
    "import matplotlib as plt \n",
    "import warnings\n",
    "\n"
   ]
  },
  {
   "cell_type": "code",
   "execution_count": 12,
   "id": "3339c29d-b015-4827-a398-e5a18959fa6c",
   "metadata": {},
   "outputs": [
    {
     "name": "stderr",
     "output_type": "stream",
     "text": [
      "/var/folders/jg/8q8btbkx247dyl7bytlh3q800000gn/T/ipykernel_26389/3221731759.py:1: DtypeWarning: Columns (29) have mixed types. Specify dtype option on import or set low_memory=False.\n",
      "  df = pd.read_csv('nba_data_modeling_engineer.csv')\n"
     ]
    }
   ],
   "source": [
    "df = pd.read_csv('nba_data_modeling_engineer.csv')"
   ]
  },
  {
   "cell_type": "markdown",
   "id": "f416d42c-7f21-45fb-8990-b9b3fb992585",
   "metadata": {},
   "source": [
    "## Descriptions of Columns\n",
    "\n",
    "    - Columns numbered for event instances in the game \n",
    "\n",
    "## List of Event Messages \n",
    "\n",
    "    - 1 : Made shot\n",
    "        - namePlayer1 : Took shot \n",
    "        - namePlayer2: Assisted Shot \n",
    "    - 2: Missed Shot \n",
    "    - 3: Free Throw \n",
    "    - 4: Rebound \n",
    "    - 5: Turnover \n",
    "    - 6: Foul \n",
    "    - 7: Violation \n",
    "    - 8: Substitution \n",
    "    - 9: Timeout \n",
    "    - 10: Jumpball\n",
    "    - 11: Ejection \n",
    "    - 12: Start of Period \n",
    "    - 13: End of Period \n",
    "\n"
   ]
  },
  {
   "cell_type": "markdown",
   "id": "f271615e-d593-4cc8-a3ef-02037cd990b9",
   "metadata": {},
   "source": [
    "## Question 1: KD is traded for a top 55 unprotected 2nd round pick"
   ]
  },
  {
   "cell_type": "markdown",
   "id": "b0abc6ad-bf8b-4d0b-b859-356975ce15c3",
   "metadata": {},
   "source": [
    "Initially I was thinking how would it look to see Kevin Durant on the Warriors after the 2023-2024 season, where he makes his return to the Warriors to reclaim another title for Stephen Curry following the departure of Klay Thompson, \n",
    "however after realizing this data set was set in 2021-22, the year the Warriors won, I figured it would be pretty uninteresting to see those effects. So as a New York native, let me annoy the public and make KD switch NY alliances, Kevin Durant to the New York Knicks.\n",
    "\n",
    "The New York Knicks in the 2021-2022 season saw a roster, that for the first time in a long time, had some potential to make something happen in the league, however that something to happen wouldnt amount to anymore than some playoff wins. But what if they were able to bring someone in like KD to be that player they could rely on, takeover the big moments, and become the difference in their championship dreams.\n",
    "\n",
    "Thought Process:\n",
    "To begin, I need prepare my data for further analysis on how Kevin Durant would affect the new lineup he would be getting into, \n",
    "the players that made up the Knicks most common starting 5 was Rj Barrett, Evan Fournier, Alec Burks, Julius Randle and Mitchell Robinson. \n",
    "There are a few other players that made the mix where there was a 5 with Kemba Walker, but the lineup stated before was the lineup that was most common \n",
    "(Basketball-Reference).\n",
    "\n",
    "    so the starting five is:\n",
    "    - PG: Evan Fournier\n",
    "    - SG: RJ Barrett:\n",
    "    - SF: Kevin Durant\n",
    "    - PF: Julius Randle\n",
    "    - C: Mitchell Robinson\n",
    "\n",
    "    and the existing starting five on the Brooklyn Nets is:\n",
    "    - PG: James Harden\n",
    "    - SG: Kyrie Irving\n",
    "    - SF: Bruce Brown\n",
    "    - PF: Kevin Durant \n",
    "    - C: LaMarcus Aldridge \n",
    "\n",
    "In approaching this problem, its going to be really interesting to see how the usage of KD is going to impact the Knicks, Randle was definitely the go to guy in big moments and was an all star in 2021, 2023 and 2024 so with KD on the team, would Randle have been an all star? Will the Knicks benefit in the welcoming of a super star? And how would it affect the scoring dynamic of the starting five? Lets find out "
   ]
  },
  {
   "cell_type": "markdown",
   "id": "4fb1c5bd-cf97-41f6-a32a-d91a74fa1fad",
   "metadata": {},
   "source": [
    "## Data Cleaning and Filtering "
   ]
  },
  {
   "cell_type": "markdown",
   "id": "d200ad24-69b5-4cdd-bb2a-126995dd6c55",
   "metadata": {},
   "source": [
    "    - Since I was working with the Knicks and Nets, I first needed to filter for just these two teams as the rest of the league meant nothing to the dynamic of how Kevin Durant impacted his team and how he would impact his future team.\n",
    "    - Then I needed to search for rows that included scoring information, so information like the jumpball or the end of a period don't have any relevance to the ppg of each player.\n",
    "    - Based on the descriptions listed in the documentation, I limited the rows to numberEventMessageType of 1 or 3 but with 3 (which represents Free throws) you further need to filter out the misses by looking at the description\n",
    "    \n"
   ]
  },
  {
   "cell_type": "code",
   "execution_count": null,
   "id": "9149ed3e-474a-4239-8f1d-e7156ee98cbe",
   "metadata": {},
   "outputs": [],
   "source": []
  }
 ],
 "metadata": {
  "kernelspec": {
   "display_name": "Python 3 (ipykernel)",
   "language": "python",
   "name": "python3"
  },
  "language_info": {
   "codemirror_mode": {
    "name": "ipython",
    "version": 3
   },
   "file_extension": ".py",
   "mimetype": "text/x-python",
   "name": "python",
   "nbconvert_exporter": "python",
   "pygments_lexer": "ipython3",
   "version": "3.11.5"
  }
 },
 "nbformat": 4,
 "nbformat_minor": 5
}
